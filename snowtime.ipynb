{
 "cells": [
  {
   "cell_type": "code",
   "execution_count": 1,
   "metadata": {},
   "outputs": [],
   "source": [
    "import pandas as pd\n",
    "import numpy as np\n",
    "\n",
    "import matplotlib.pyplot as plt \n",
    "import seaborn as sns\n"
   ]
  },
  {
   "cell_type": "code",
   "execution_count": 2,
   "metadata": {},
   "outputs": [],
   "source": [
    "df = pd.read_csv('data/gd.csv', delimiter=';')"
   ]
  },
  {
   "cell_type": "code",
   "execution_count": 3,
   "metadata": {},
   "outputs": [],
   "source": [
    "#df.insert(0, 'ones', 1.)"
   ]
  },
  {
   "cell_type": "code",
   "execution_count": 4,
   "metadata": {},
   "outputs": [
    {
     "data": {
      "text/plain": [
       "array([1., 1., 1.])"
      ]
     },
     "execution_count": 4,
     "metadata": {},
     "output_type": "execute_result"
    }
   ],
   "source": [
    "np.ones(df.shape[1])"
   ]
  },
  {
   "cell_type": "code",
   "execution_count": 5,
   "metadata": {},
   "outputs": [
    {
     "data": {
      "text/html": [
       "<div>\n",
       "<style scoped>\n",
       "    .dataframe tbody tr th:only-of-type {\n",
       "        vertical-align: middle;\n",
       "    }\n",
       "\n",
       "    .dataframe tbody tr th {\n",
       "        vertical-align: top;\n",
       "    }\n",
       "\n",
       "    .dataframe thead th {\n",
       "        text-align: right;\n",
       "    }\n",
       "</style>\n",
       "<table border=\"1\" class=\"dataframe\">\n",
       "  <thead>\n",
       "    <tr style=\"text-align: right;\">\n",
       "      <th></th>\n",
       "      <th>x</th>\n",
       "      <th>y</th>\n",
       "      <th>iter</th>\n",
       "    </tr>\n",
       "  </thead>\n",
       "  <tbody>\n",
       "    <tr>\n",
       "      <th>0</th>\n",
       "      <td>5.000000</td>\n",
       "      <td>1.625079e-01</td>\n",
       "      <td>0</td>\n",
       "    </tr>\n",
       "    <tr>\n",
       "      <th>1</th>\n",
       "      <td>4.000000</td>\n",
       "      <td>2.708935e+00</td>\n",
       "      <td>1</td>\n",
       "    </tr>\n",
       "    <tr>\n",
       "      <th>2</th>\n",
       "      <td>3.375300</td>\n",
       "      <td>3.145457e+00</td>\n",
       "      <td>2</td>\n",
       "    </tr>\n",
       "    <tr>\n",
       "      <th>3</th>\n",
       "      <td>2.908990</td>\n",
       "      <td>1.480497e+00</td>\n",
       "      <td>3</td>\n",
       "    </tr>\n",
       "    <tr>\n",
       "      <th>4</th>\n",
       "      <td>2.536090</td>\n",
       "      <td>2.082132e+00</td>\n",
       "      <td>4</td>\n",
       "    </tr>\n",
       "    <tr>\n",
       "      <th>...</th>\n",
       "      <td>...</td>\n",
       "      <td>...</td>\n",
       "      <td>...</td>\n",
       "    </tr>\n",
       "    <tr>\n",
       "      <th>87</th>\n",
       "      <td>0.000235</td>\n",
       "      <td>2.114849e-04</td>\n",
       "      <td>87</td>\n",
       "    </tr>\n",
       "    <tr>\n",
       "      <th>88</th>\n",
       "      <td>0.000210</td>\n",
       "      <td>1.846161e-04</td>\n",
       "      <td>88</td>\n",
       "    </tr>\n",
       "    <tr>\n",
       "      <th>89</th>\n",
       "      <td>0.000188</td>\n",
       "      <td>3.554679e-05</td>\n",
       "      <td>89</td>\n",
       "    </tr>\n",
       "    <tr>\n",
       "      <th>90</th>\n",
       "      <td>0.000169</td>\n",
       "      <td>9.120874e-07</td>\n",
       "      <td>90</td>\n",
       "    </tr>\n",
       "    <tr>\n",
       "      <th>91</th>\n",
       "      <td>0.000151</td>\n",
       "      <td>7.378035e-05</td>\n",
       "      <td>91</td>\n",
       "    </tr>\n",
       "  </tbody>\n",
       "</table>\n",
       "<p>92 rows × 3 columns</p>\n",
       "</div>"
      ],
      "text/plain": [
       "           x             y  iter\n",
       "0   5.000000  1.625079e-01     0\n",
       "1   4.000000  2.708935e+00     1\n",
       "2   3.375300  3.145457e+00     2\n",
       "3   2.908990  1.480497e+00     3\n",
       "4   2.536090  2.082132e+00     4\n",
       "..       ...           ...   ...\n",
       "87  0.000235  2.114849e-04    87\n",
       "88  0.000210  1.846161e-04    88\n",
       "89  0.000188  3.554679e-05    89\n",
       "90  0.000169  9.120874e-07    90\n",
       "91  0.000151  7.378035e-05    91\n",
       "\n",
       "[92 rows x 3 columns]"
      ]
     },
     "execution_count": 5,
     "metadata": {},
     "output_type": "execute_result"
    }
   ],
   "source": [
    "df.y = df.y * np.random.rand(df.shape[0])\n",
    "df"
   ]
  },
  {
   "cell_type": "code",
   "execution_count": 6,
   "metadata": {},
   "outputs": [],
   "source": [
    "df = df.drop(columns = 'iter')"
   ]
  },
  {
   "cell_type": "code",
   "execution_count": 7,
   "metadata": {},
   "outputs": [
    {
     "data": {
      "text/plain": [
       "<matplotlib.collections.PathCollection at 0x1ffd1e8b110>"
      ]
     },
     "execution_count": 7,
     "metadata": {},
     "output_type": "execute_result"
    },
    {
     "data": {
      "image/png": "[encoded data removed]",
      "text/plain": [
       "<Figure size 640x480 with 1 Axes>"
      ]
     },
     "metadata": {},
     "output_type": "display_data"
    }
   ],
   "source": [
    "plt.scatter(df.x, df.y)"
   ]
  },
  {
   "cell_type": "code",
   "execution_count": 8,
   "metadata": {},
   "outputs": [
    {
     "data": {
      "text/plain": [
       "array([1.])"
      ]
     },
     "execution_count": 8,
     "metadata": {},
     "output_type": "execute_result"
    }
   ],
   "source": [
    "x = df.drop(columns = 'y')\n",
    "y = df.y\n",
    "weights = np.ones(x.shape[1])\n",
    "weights"
   ]
  },
  {
   "cell_type": "code",
   "execution_count": 9,
   "metadata": {},
   "outputs": [
    {
     "data": {
      "text/plain": [
       "array([1.05391288])"
      ]
     },
     "execution_count": 9,
     "metadata": {},
     "output_type": "execute_result"
    }
   ],
   "source": [
    "\n",
    "2/x.shape[0] * np.dot((np.dot(x, weights)-y), x)\n"
   ]
  },
  {
   "cell_type": "code",
   "execution_count": 10,
   "metadata": {},
   "outputs": [],
   "source": [
    "from sklearn.linear_model import LogisticRegression\n",
    "from sklearn.model_selection import train_test_split\n",
    "import seaborn as sns\n",
    "\n"
   ]
  },
  {
   "cell_type": "code",
   "execution_count": 11,
   "metadata": {},
   "outputs": [
    {
     "data": {
      "text/html": [
       "<div>\n",
       "<style scoped>\n",
       "    .dataframe tbody tr th:only-of-type {\n",
       "        vertical-align: middle;\n",
       "    }\n",
       "\n",
       "    .dataframe tbody tr th {\n",
       "        vertical-align: top;\n",
       "    }\n",
       "\n",
       "    .dataframe thead th {\n",
       "        text-align: right;\n",
       "    }\n",
       "</style>\n",
       "<table border=\"1\" class=\"dataframe\">\n",
       "  <thead>\n",
       "    <tr style=\"text-align: right;\">\n",
       "      <th></th>\n",
       "      <th>Area</th>\n",
       "      <th>MajorAxisLength</th>\n",
       "      <th>MinorAxisLength</th>\n",
       "      <th>Eccentricity</th>\n",
       "      <th>ConvexArea</th>\n",
       "      <th>Extent</th>\n",
       "      <th>Perimeter</th>\n",
       "      <th>Class</th>\n",
       "    </tr>\n",
       "  </thead>\n",
       "  <tbody>\n",
       "    <tr>\n",
       "      <th>0</th>\n",
       "      <td>87524</td>\n",
       "      <td>442.246011</td>\n",
       "      <td>253.291155</td>\n",
       "      <td>0.819738</td>\n",
       "      <td>90546</td>\n",
       "      <td>0.758651</td>\n",
       "      <td>1184.040</td>\n",
       "      <td>Kecimen</td>\n",
       "    </tr>\n",
       "    <tr>\n",
       "      <th>1</th>\n",
       "      <td>75166</td>\n",
       "      <td>406.690687</td>\n",
       "      <td>243.032436</td>\n",
       "      <td>0.801805</td>\n",
       "      <td>78789</td>\n",
       "      <td>0.684130</td>\n",
       "      <td>1121.786</td>\n",
       "      <td>Kecimen</td>\n",
       "    </tr>\n",
       "    <tr>\n",
       "      <th>2</th>\n",
       "      <td>90856</td>\n",
       "      <td>442.267048</td>\n",
       "      <td>266.328318</td>\n",
       "      <td>0.798354</td>\n",
       "      <td>93717</td>\n",
       "      <td>0.637613</td>\n",
       "      <td>1208.575</td>\n",
       "      <td>Kecimen</td>\n",
       "    </tr>\n",
       "    <tr>\n",
       "      <th>3</th>\n",
       "      <td>45928</td>\n",
       "      <td>286.540559</td>\n",
       "      <td>208.760042</td>\n",
       "      <td>0.684989</td>\n",
       "      <td>47336</td>\n",
       "      <td>0.699599</td>\n",
       "      <td>844.162</td>\n",
       "      <td>Kecimen</td>\n",
       "    </tr>\n",
       "    <tr>\n",
       "      <th>4</th>\n",
       "      <td>79408</td>\n",
       "      <td>352.190770</td>\n",
       "      <td>290.827533</td>\n",
       "      <td>0.564011</td>\n",
       "      <td>81463</td>\n",
       "      <td>0.792772</td>\n",
       "      <td>1073.251</td>\n",
       "      <td>Kecimen</td>\n",
       "    </tr>\n",
       "  </tbody>\n",
       "</table>\n",
       "</div>"
      ],
      "text/plain": [
       "    Area  MajorAxisLength  MinorAxisLength  Eccentricity  ConvexArea  \\\n",
       "0  87524       442.246011       253.291155      0.819738       90546   \n",
       "1  75166       406.690687       243.032436      0.801805       78789   \n",
       "2  90856       442.267048       266.328318      0.798354       93717   \n",
       "3  45928       286.540559       208.760042      0.684989       47336   \n",
       "4  79408       352.190770       290.827533      0.564011       81463   \n",
       "\n",
       "     Extent  Perimeter    Class  \n",
       "0  0.758651   1184.040  Kecimen  \n",
       "1  0.684130   1121.786  Kecimen  \n",
       "2  0.637613   1208.575  Kecimen  \n",
       "3  0.699599    844.162  Kecimen  \n",
       "4  0.792772   1073.251  Kecimen  "
      ]
     },
     "execution_count": 11,
     "metadata": {},
     "output_type": "execute_result"
    }
   ],
   "source": [
    "df = pd.read_csv('data/Raisin_Dataset.csv')\n",
    "df.head()"
   ]
  },
  {
   "cell_type": "code",
   "execution_count": 12,
   "metadata": {},
   "outputs": [
    {
     "data": {
      "text/plain": [
       "Class\n",
       "Kecimen    450\n",
       "Besni      450\n",
       "Name: count, dtype: int64"
      ]
     },
     "execution_count": 12,
     "metadata": {},
     "output_type": "execute_result"
    }
   ],
   "source": [
    "df.Class.value_counts()"
   ]
  },
  {
   "cell_type": "code",
   "execution_count": 13,
   "metadata": {},
   "outputs": [],
   "source": [
    "df.Class = df.Class.map({'Kecimen':0, 'Besni': 1})"
   ]
  },
  {
   "cell_type": "code",
   "execution_count": 14,
   "metadata": {},
   "outputs": [
    {
     "data": {
      "text/plain": [
       "<Axes: >"
      ]
     },
     "execution_count": 14,
     "metadata": {},
     "output_type": "execute_result"
    },
    {
     "data": {
      "image/png": "[encoded data removed]",
      "text/plain": [
       "<Figure size 640x480 with 2 Axes>"
      ]
     },
     "metadata": {},
     "output_type": "display_data"
    }
   ],
   "source": [
    "sns.heatmap(df.drop(columns = 'Class').corr())"
   ]
  },
  {
   "cell_type": "code",
   "execution_count": 15,
   "metadata": {},
   "outputs": [
    {
     "data": {
      "text/plain": [
       "<matplotlib.collections.PathCollection at 0x1ffd29d0ad0>"
      ]
     },
     "execution_count": 15,
     "metadata": {},
     "output_type": "execute_result"
    },
    {
     "data": {
      "image/png": "[encoded data removed]",
      "text/plain": [
       "<Figure size 640x480 with 1 Axes>"
      ]
     },
     "metadata": {},
     "output_type": "display_data"
    }
   ],
   "source": [
    "x_train = pd.DataFrame({'x':[1,2,3,4,5, 6], 'y':[1,2,3,4,5, 6]})\n",
    "target = pd.Series([1,1,1,0,0,0])\n",
    "x_train.assign(t = target.values)\n",
    "\n",
    "x_test = pd.DataFrame({'x':[1.1, 1.7, 3.1, 4,5,6], \"y\" : [1,2,3, 3.88, 5.1, 7]})\n",
    "x_train.plot(kind = 'scatter', x = 'x', y = 'y')\n",
    "plt.scatter(x_test.x, x_test.y, c = 'red')"
   ]
  },
  {
   "cell_type": "code",
   "execution_count": 78,
   "metadata": {},
   "outputs": [],
   "source": [
    "class TwoPointers():\n",
    "    def __init__(self, col, sep):\n",
    "        self.col = col\n",
    "        self.sep = sep\n",
    "        self.right = None\n",
    "        self.left = None\n",
    "        self.left_prob = None\n",
    "        self.right_prob = None\n",
    "        self.is_right = None # 1 или 0\n",
    "\n",
    "\n",
    "def entropy_shennon(y: np.array):\n",
    "    ans = 0\n",
    "    for i in np.unique(y):\n",
    "        si = (y == i).sum() / y.shape[0]\n",
    "        ans -= si * np.log2(si)\n",
    "    return ans\n",
    "\n",
    "def  IG (*y_arr):\n",
    "    ans = entropy_shennon(y_arr[0])\n",
    "    N = y_arr[0].shape[0]\n",
    "    for yi in y_arr[1:]:\n",
    "        Ni = yi.shape[0]\n",
    "        ans -= Ni/N * entropy_shennon(yi) \n",
    "    return ans\n",
    "\n",
    "def get_best_split(X:np.array, y:np.array):\n",
    "    ig = 0\n",
    "    split_value = 0\n",
    "    col_name = ''\n",
    "    for col in range(X.shape[1]):\n",
    "        unique_sorted = np.sort(np.unique(X[:, col]))\n",
    "        separators = np.zeros(unique_sorted.shape[0] - 1)\n",
    "        for i in range(unique_sorted.shape[0] - 1):\n",
    "            separators[i] = (unique_sorted[i] + unique_sorted[i+1]) / 2\n",
    "        \n",
    "        for sep in separators:\n",
    "            right = y[X[:, col] > sep]\n",
    "            left = y[X[:, col] <= sep]\n",
    "            ig_local = IG(y, right, left)\n",
    "            \n",
    "            if ig_local > ig:\n",
    "                ig = ig_local\n",
    "                col_name = col\n",
    "                split_value = sep \n",
    "    return (col_name, split_value, ig)\n",
    "\n",
    "def tree_builder(x, y, curr_depth, Node, min_samples_split, is_right):\n",
    "        if (x.shape[0] < min_samples_split) or (np.unique(y).shape[0] <=1):\n",
    "            if is_right == 1:\n",
    "                Node.right_prob = (y == 1).sum() / y.shape[0]\n",
    "                Node.left_prob = 0.0\n",
    "            else:\n",
    "                Node.left_prob = (y == 1).sum() / y.shape[0]\n",
    "                Node.right_prob = 0.0\n",
    "            return Node\n",
    "\n",
    "        else:\n",
    "            best_split = get_best_split(x, y)\n",
    "            \n",
    "            right_x = x[x[:, best_split[0]] > best_split[1]]\n",
    "            left_x  = x[x[:,  best_split[0]] <= best_split[1]]\n",
    "            \n",
    "            right_y = y[x[:, best_split[0]] > best_split[1]]\n",
    "            left_y = y[x[:,  best_split[0]] <= best_split[1]]\n",
    "            \n",
    "            Node.col = best_split[0]\n",
    "            Node.sep = best_split[1]\n",
    "            Node.left = tree_builder(left_x, left_y, curr_depth + 1, TwoPointers(None, None), min_samples_split, 0)\n",
    "            Node.right = tree_builder(right_x, right_y, curr_depth + 1, TwoPointers(None, None), min_samples_split, 1)\n",
    "        \n",
    "        return Node\n",
    "            \n",
    "\n",
    "def tree_reader(node, indent = ''):\n",
    "    if (node.left == None) and (node.right == None):\n",
    "        if node.is_right == 1:\n",
    "            print(indent, 'right_prob =', node.right_prob)\n",
    "        else:print(indent, 'right_prob =', node.right_prob)\n",
    "\n",
    "    else:\n",
    "        print(indent, 'col:', node.col, 'sep:', node.sep)\n",
    "        tree_reader(node.right, indent + '  ')\n",
    "        tree_reader(node.left, indent + '  ')\n",
    "        \n",
    "class MyTreeClf():\n",
    "\n",
    "    def __init__(self, max_depth, min_samples_split, max_leafs):\n",
    "        self.max_depth = max_depth\n",
    "        self.min_samples_split = min_samples_split\n",
    "        self.max_leafs = max_leafs\n",
    "        self.leafs_cnt = 0\n",
    "        self.tree = None\n",
    "    \n",
    "    def fit (self, X, y):\n",
    "        self.tree = TwoPointers(None, None)\n",
    "        X = X.values\n",
    "        y = y.values\n",
    "        tree_builder(X, y, 0, self.tree, self.min_samples_split, 0)\n",
    "    \n",
    "    def display_tree(self):\n",
    "        tree_reader(self.tree)\n",
    "    \n",
    "            "
   ]
  },
  {
   "cell_type": "code",
   "execution_count": 79,
   "metadata": {},
   "outputs": [],
   "source": [
    "from sklearn.datasets import load_breast_cancer\n",
    "\n",
    "data = load_breast_cancer()"
   ]
  },
  {
   "cell_type": "code",
   "execution_count": 80,
   "metadata": {},
   "outputs": [],
   "source": [
    "df = pd.DataFrame(data.data)\n",
    "y = pd.Series(data.target)"
   ]
  },
  {
   "cell_type": "code",
   "execution_count": 81,
   "metadata": {},
   "outputs": [],
   "source": [
    "tree_classifier = MyTreeClf(5, 10, 20)"
   ]
  },
  {
   "cell_type": "code",
   "execution_count": 82,
   "metadata": {},
   "outputs": [],
   "source": [
    "tree_classifier.fit(df, y)"
   ]
  },
  {
   "cell_type": "code",
   "execution_count": 83,
   "metadata": {},
   "outputs": [
    {
     "name": "stdout",
     "output_type": "stream",
     "text": [
      " col: 22 sep: 105.95\n",
      "   col: 22 sep: 117.45\n",
      "     col: 19 sep: 0.001547\n",
      "       right_prob = 0.0\n",
      "       right_prob = 0.0\n",
      "     col: 24 sep: 0.1361\n",
      "       col: 1 sep: 13.42\n",
      "         right_prob = 0.0\n",
      "         right_prob = 0.0\n",
      "       col: 21 sep: 25.67\n",
      "         col: 0 sep: 15.02\n",
      "           right_prob = 0.0\n",
      "           right_prob = 0.0\n",
      "         right_prob = 0.0\n",
      "   col: 27 sep: 0.13505\n",
      "     col: 21 sep: 27.575\n",
      "       right_prob = 0.0\n",
      "       col: 28 sep: 0.35785\n",
      "         right_prob = 0.2\n",
      "         right_prob = 0.0\n",
      "     col: 13 sep: 48.975\n",
      "       right_prob = 0.5\n",
      "       col: 21 sep: 30.145\n",
      "         col: 11 sep: 0.8596\n",
      "           col: 20 sep: 14.43\n",
      "             right_prob = 0.875\n",
      "             right_prob = 0.0\n",
      "           right_prob = 0.0\n",
      "         right_prob = 0.0\n"
     ]
    }
   ],
   "source": [
    "tree_classifier.display_tree()"
   ]
  },
  {
   "cell_type": "code",
   "execution_count": null,
   "metadata": {},
   "outputs": [],
   "source": []
  }
 ],
 "metadata": {
  "kernelspec": {
   "display_name": "Based",
   "language": "python",
   "name": "python3"
  },
  "language_info": {
   "codemirror_mode": {
    "name": "ipython",
    "version": 3
   },
   "file_extension": ".py",
   "mimetype": "text/x-python",
   "name": "python",
   "nbconvert_exporter": "python",
   "pygments_lexer": "ipython3",
   "version": "3.11.7"
  }
 },
 "nbformat": 4,
 "nbformat_minor": 2
}
