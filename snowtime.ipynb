{
 "cells": [
  {
   "cell_type": "code",
   "execution_count": 1,
   "metadata": {},
   "outputs": [],
   "source": [
    "import pandas as pd\n",
    "import numpy as np\n",
    "\n",
    "import matplotlib.pyplot as plt \n",
    "import seaborn as sns\n"
   ]
  },
  {
   "cell_type": "code",
   "execution_count": 2,
   "metadata": {},
   "outputs": [],
   "source": [
    "df = pd.read_csv('data/gd.csv', delimiter=';')"
   ]
  },
  {
   "cell_type": "code",
   "execution_count": 3,
   "metadata": {},
   "outputs": [],
   "source": [
    "#df.insert(0, 'ones', 1.)"
   ]
  },
  {
   "cell_type": "code",
   "execution_count": 4,
   "metadata": {},
   "outputs": [
    {
     "data": {
      "text/plain": [
       "array([1., 1., 1.])"
      ]
     },
     "execution_count": 4,
     "metadata": {},
     "output_type": "execute_result"
    }
   ],
   "source": [
    "np.ones(df.shape[1])"
   ]
  },
  {
   "cell_type": "code",
   "execution_count": 5,
   "metadata": {},
   "outputs": [
    {
     "data": {
      "text/html": [
       "<div>\n",
       "<style scoped>\n",
       "    .dataframe tbody tr th:only-of-type {\n",
       "        vertical-align: middle;\n",
       "    }\n",
       "\n",
       "    .dataframe tbody tr th {\n",
       "        vertical-align: top;\n",
       "    }\n",
       "\n",
       "    .dataframe thead th {\n",
       "        text-align: right;\n",
       "    }\n",
       "</style>\n",
       "<table border=\"1\" class=\"dataframe\">\n",
       "  <thead>\n",
       "    <tr style=\"text-align: right;\">\n",
       "      <th></th>\n",
       "      <th>x</th>\n",
       "      <th>y</th>\n",
       "      <th>iter</th>\n",
       "    </tr>\n",
       "  </thead>\n",
       "  <tbody>\n",
       "    <tr>\n",
       "      <th>0</th>\n",
       "      <td>5.000000</td>\n",
       "      <td>1.514851</td>\n",
       "      <td>0</td>\n",
       "    </tr>\n",
       "    <tr>\n",
       "      <th>1</th>\n",
       "      <td>4.000000</td>\n",
       "      <td>3.227048</td>\n",
       "      <td>1</td>\n",
       "    </tr>\n",
       "    <tr>\n",
       "      <th>2</th>\n",
       "      <td>3.375300</td>\n",
       "      <td>0.372260</td>\n",
       "      <td>2</td>\n",
       "    </tr>\n",
       "    <tr>\n",
       "      <th>3</th>\n",
       "      <td>2.908990</td>\n",
       "      <td>0.504307</td>\n",
       "      <td>3</td>\n",
       "    </tr>\n",
       "    <tr>\n",
       "      <th>4</th>\n",
       "      <td>2.536090</td>\n",
       "      <td>0.991161</td>\n",
       "      <td>4</td>\n",
       "    </tr>\n",
       "    <tr>\n",
       "      <th>...</th>\n",
       "      <td>...</td>\n",
       "      <td>...</td>\n",
       "      <td>...</td>\n",
       "    </tr>\n",
       "    <tr>\n",
       "      <th>87</th>\n",
       "      <td>0.000235</td>\n",
       "      <td>0.000055</td>\n",
       "      <td>87</td>\n",
       "    </tr>\n",
       "    <tr>\n",
       "      <th>88</th>\n",
       "      <td>0.000210</td>\n",
       "      <td>0.000113</td>\n",
       "      <td>88</td>\n",
       "    </tr>\n",
       "    <tr>\n",
       "      <th>89</th>\n",
       "      <td>0.000188</td>\n",
       "      <td>0.000159</td>\n",
       "      <td>89</td>\n",
       "    </tr>\n",
       "    <tr>\n",
       "      <th>90</th>\n",
       "      <td>0.000169</td>\n",
       "      <td>0.000005</td>\n",
       "      <td>90</td>\n",
       "    </tr>\n",
       "    <tr>\n",
       "      <th>91</th>\n",
       "      <td>0.000151</td>\n",
       "      <td>0.000032</td>\n",
       "      <td>91</td>\n",
       "    </tr>\n",
       "  </tbody>\n",
       "</table>\n",
       "<p>92 rows × 3 columns</p>\n",
       "</div>"
      ],
      "text/plain": [
       "           x         y  iter\n",
       "0   5.000000  1.514851     0\n",
       "1   4.000000  3.227048     1\n",
       "2   3.375300  0.372260     2\n",
       "3   2.908990  0.504307     3\n",
       "4   2.536090  0.991161     4\n",
       "..       ...       ...   ...\n",
       "87  0.000235  0.000055    87\n",
       "88  0.000210  0.000113    88\n",
       "89  0.000188  0.000159    89\n",
       "90  0.000169  0.000005    90\n",
       "91  0.000151  0.000032    91\n",
       "\n",
       "[92 rows x 3 columns]"
      ]
     },
     "execution_count": 5,
     "metadata": {},
     "output_type": "execute_result"
    }
   ],
   "source": [
    "df.y = df.y * np.random.rand(df.shape[0])\n",
    "df"
   ]
  },
  {
   "cell_type": "code",
   "execution_count": 6,
   "metadata": {},
   "outputs": [],
   "source": [
    "df = df.drop(columns = 'iter')"
   ]
  },
  {
   "cell_type": "code",
   "execution_count": 7,
   "metadata": {},
   "outputs": [
    {
     "data": {
      "text/plain": [
       "<matplotlib.collections.PathCollection at 0x1b4c824ab90>"
      ]
     },
     "execution_count": 7,
     "metadata": {},
     "output_type": "execute_result"
    },
    {
     "data": {
      "image/png": "[encoded data removed]",
      "text/plain": [
       "<Figure size 640x480 with 1 Axes>"
      ]
     },
     "metadata": {},
     "output_type": "display_data"
    }
   ],
   "source": [
    "plt.scatter(df.x, df.y)"
   ]
  },
  {
   "cell_type": "code",
   "execution_count": 8,
   "metadata": {},
   "outputs": [
    {
     "data": {
      "text/plain": [
       "array([1.])"
      ]
     },
     "execution_count": 8,
     "metadata": {},
     "output_type": "execute_result"
    }
   ],
   "source": [
    "x = df.drop(columns = 'y')\n",
    "y = df.y\n",
    "weights = np.ones(x.shape[1])\n",
    "weights"
   ]
  },
  {
   "cell_type": "code",
   "execution_count": 9,
   "metadata": {},
   "outputs": [
    {
     "data": {
      "text/plain": [
       "array([1.19869456])"
      ]
     },
     "execution_count": 9,
     "metadata": {},
     "output_type": "execute_result"
    }
   ],
   "source": [
    "\n",
    "2/x.shape[0] * np.dot((np.dot(x, weights)-y), x)\n"
   ]
  },
  {
   "cell_type": "code",
   "execution_count": 10,
   "metadata": {},
   "outputs": [],
   "source": [
    "from sklearn.linear_model import LogisticRegression\n",
    "from sklearn.model_selection import train_test_split\n",
    "import seaborn as sns\n",
    "\n"
   ]
  },
  {
   "cell_type": "code",
   "execution_count": 11,
   "metadata": {},
   "outputs": [
    {
     "data": {
      "text/html": [
       "<div>\n",
       "<style scoped>\n",
       "    .dataframe tbody tr th:only-of-type {\n",
       "        vertical-align: middle;\n",
       "    }\n",
       "\n",
       "    .dataframe tbody tr th {\n",
       "        vertical-align: top;\n",
       "    }\n",
       "\n",
       "    .dataframe thead th {\n",
       "        text-align: right;\n",
       "    }\n",
       "</style>\n",
       "<table border=\"1\" class=\"dataframe\">\n",
       "  <thead>\n",
       "    <tr style=\"text-align: right;\">\n",
       "      <th></th>\n",
       "      <th>Area</th>\n",
       "      <th>MajorAxisLength</th>\n",
       "      <th>MinorAxisLength</th>\n",
       "      <th>Eccentricity</th>\n",
       "      <th>ConvexArea</th>\n",
       "      <th>Extent</th>\n",
       "      <th>Perimeter</th>\n",
       "      <th>Class</th>\n",
       "    </tr>\n",
       "  </thead>\n",
       "  <tbody>\n",
       "    <tr>\n",
       "      <th>0</th>\n",
       "      <td>87524</td>\n",
       "      <td>442.246011</td>\n",
       "      <td>253.291155</td>\n",
       "      <td>0.819738</td>\n",
       "      <td>90546</td>\n",
       "      <td>0.758651</td>\n",
       "      <td>1184.040</td>\n",
       "      <td>Kecimen</td>\n",
       "    </tr>\n",
       "    <tr>\n",
       "      <th>1</th>\n",
       "      <td>75166</td>\n",
       "      <td>406.690687</td>\n",
       "      <td>243.032436</td>\n",
       "      <td>0.801805</td>\n",
       "      <td>78789</td>\n",
       "      <td>0.684130</td>\n",
       "      <td>1121.786</td>\n",
       "      <td>Kecimen</td>\n",
       "    </tr>\n",
       "    <tr>\n",
       "      <th>2</th>\n",
       "      <td>90856</td>\n",
       "      <td>442.267048</td>\n",
       "      <td>266.328318</td>\n",
       "      <td>0.798354</td>\n",
       "      <td>93717</td>\n",
       "      <td>0.637613</td>\n",
       "      <td>1208.575</td>\n",
       "      <td>Kecimen</td>\n",
       "    </tr>\n",
       "    <tr>\n",
       "      <th>3</th>\n",
       "      <td>45928</td>\n",
       "      <td>286.540559</td>\n",
       "      <td>208.760042</td>\n",
       "      <td>0.684989</td>\n",
       "      <td>47336</td>\n",
       "      <td>0.699599</td>\n",
       "      <td>844.162</td>\n",
       "      <td>Kecimen</td>\n",
       "    </tr>\n",
       "    <tr>\n",
       "      <th>4</th>\n",
       "      <td>79408</td>\n",
       "      <td>352.190770</td>\n",
       "      <td>290.827533</td>\n",
       "      <td>0.564011</td>\n",
       "      <td>81463</td>\n",
       "      <td>0.792772</td>\n",
       "      <td>1073.251</td>\n",
       "      <td>Kecimen</td>\n",
       "    </tr>\n",
       "  </tbody>\n",
       "</table>\n",
       "</div>"
      ],
      "text/plain": [
       "    Area  MajorAxisLength  MinorAxisLength  Eccentricity  ConvexArea  \\\n",
       "0  87524       442.246011       253.291155      0.819738       90546   \n",
       "1  75166       406.690687       243.032436      0.801805       78789   \n",
       "2  90856       442.267048       266.328318      0.798354       93717   \n",
       "3  45928       286.540559       208.760042      0.684989       47336   \n",
       "4  79408       352.190770       290.827533      0.564011       81463   \n",
       "\n",
       "     Extent  Perimeter    Class  \n",
       "0  0.758651   1184.040  Kecimen  \n",
       "1  0.684130   1121.786  Kecimen  \n",
       "2  0.637613   1208.575  Kecimen  \n",
       "3  0.699599    844.162  Kecimen  \n",
       "4  0.792772   1073.251  Kecimen  "
      ]
     },
     "execution_count": 11,
     "metadata": {},
     "output_type": "execute_result"
    }
   ],
   "source": [
    "df = pd.read_csv('data/Raisin_Dataset.csv')\n",
    "df.head()"
   ]
  },
  {
   "cell_type": "code",
   "execution_count": 12,
   "metadata": {},
   "outputs": [
    {
     "data": {
      "text/plain": [
       "Class\n",
       "Kecimen    450\n",
       "Besni      450\n",
       "Name: count, dtype: int64"
      ]
     },
     "execution_count": 12,
     "metadata": {},
     "output_type": "execute_result"
    }
   ],
   "source": [
    "df.Class.value_counts()"
   ]
  },
  {
   "cell_type": "code",
   "execution_count": 13,
   "metadata": {},
   "outputs": [],
   "source": [
    "df.Class = df.Class.map({'Kecimen':0, 'Besni': 1})"
   ]
  },
  {
   "cell_type": "code",
   "execution_count": 14,
   "metadata": {},
   "outputs": [
    {
     "data": {
      "text/plain": [
       "<Axes: >"
      ]
     },
     "execution_count": 14,
     "metadata": {},
     "output_type": "execute_result"
    },
    {
     "data": {
      "image/png": "[encoded data removed]",
      "text/plain": [
       "<Figure size 640x480 with 2 Axes>"
      ]
     },
     "metadata": {},
     "output_type": "display_data"
    }
   ],
   "source": [
    "sns.heatmap(df.drop(columns = 'Class').corr())"
   ]
  },
  {
   "cell_type": "code",
   "execution_count": 15,
   "metadata": {},
   "outputs": [
    {
     "data": {
      "text/plain": [
       "<matplotlib.collections.PathCollection at 0x1b4c8eef550>"
      ]
     },
     "execution_count": 15,
     "metadata": {},
     "output_type": "execute_result"
    },
    {
     "data": {
      "image/png": "[encoded data removed]",
      "text/plain": [
       "<Figure size 640x480 with 1 Axes>"
      ]
     },
     "metadata": {},
     "output_type": "display_data"
    }
   ],
   "source": [
    "x_train = pd.DataFrame({'x':[1,2,3,4,5, 6], 'y':[1,2,3,4,5, 6]})\n",
    "target = pd.Series([1,1,1,0,0,0])\n",
    "x_train.assign(t = target.values)\n",
    "\n",
    "x_test = pd.DataFrame({'x':[1.1, 1.7, 3.1, 4,5,6], \"y\" : [1,2,3, 3.88, 5.1, 7]})\n",
    "x_train.plot(kind = 'scatter', x = 'x', y = 'y')\n",
    "plt.scatter(x_test.x, x_test.y, c = 'red')"
   ]
  },
  {
   "cell_type": "code",
   "execution_count": 193,
   "metadata": {},
   "outputs": [],
   "source": [
    "class MyKMeans():\n",
    "    def __init__(self, n_clusters = 3, max_iter = 10, n_init = 3, random_state = 42):\n",
    "        self.n_clusters = n_clusters\n",
    "        self.max_iter = max_iter\n",
    "        self.n_init = n_init\n",
    "        self.random_state = random_state\n",
    "        self.cluster_centers_  = np.zeros(n_clusters, dtype=object)\n",
    "        self.inertia_ = 0\n",
    "    \n",
    "    def fit(self, X):\n",
    "        np.random.seed(seed=self.random_state)\n",
    "        \n",
    "        x = X.values\n",
    "        \n",
    "        idx = np.random.choice(x.shape[0], self.n_clusters, replace=False)\n",
    "        #Randomly choosing Centroids \n",
    "        self.cluster_centers_ = x[idx, :] \n",
    "        \n",
    "        \n",
    "        \n",
    "        for idx in range(self.max_iter):                    \n",
    "            dist_arr = np.zeros((x.shape[0], self.n_clusters))\n",
    "            for i in range(self.cluster_centers_.shape[0]): #находим дистанции до центроид, где ось 0 - центроиды, а ось 1 - расстояния до точек\n",
    "                dist_arr[:, i] = np.sqrt(((x - self.cluster_centers_ [i])**2).sum(axis = 1))\n",
    "        \n",
    "            cluster_classes = dist_arr.argmin(axis = 1) # вычисление ближайших центроид\n",
    "            for i in range(self.n_clusters):            # подсчет инерции для итогового кластера\n",
    "                filter = (cluster_classes == i)\n",
    "                self.inertia_= np.power(dist_arr[filter, i], 2).sum()\n",
    "                \n",
    "            for i in range(self.n_clusters):            # нахождение средних координат для кластеров\n",
    "                filter = (cluster_classes == i)\n",
    "                if filter.sum() > 1:\n",
    "                    self.cluster_centers_[i] = x[filter].mean(axis = 0)\n"
   ]
  },
  {
   "cell_type": "code",
   "execution_count": 194,
   "metadata": {},
   "outputs": [],
   "source": [
    "import numpy as np\n",
    "from scipy.spatial.distance import cdist \n",
    " \n",
    "#Function to implement steps given in previous section\n",
    "def Kmeans(x,k, no_of_iterations, random_state = 42):\n",
    "    np.random.seed(seed=random_state)\n",
    "    idx = np.random.choice(len(x), k, replace=False)\n",
    "    #Randomly choosing Centroids \n",
    "    centroids = x[idx, :] #Step 1\n",
    "     \n",
    "    #finding the distance between centroids and all the data points\n",
    "    distances = cdist(x, centroids ,'euclidean') #Step 2\n",
    "    print(distances)\n",
    "    #Centroid with the minimum Distance\n",
    "    points = np.array([np.argmin(i) for i in distances]) #Step 3\n",
    "     \n",
    "    #Repeating the above steps for a defined number of iterations\n",
    "    #Step 4\n",
    "    for _ in range(no_of_iterations): \n",
    "        centroids = []\n",
    "        for idx in range(k):\n",
    "            #Updating Centroids by taking mean of Cluster it belongs to\n",
    "            temp_cent = x[points==idx].mean(axis=0) \n",
    "            centroids.append(temp_cent)\n",
    " \n",
    "        centroids = np.vstack(centroids) #Updated Centroids \n",
    "         \n",
    "        distances = cdist(x, centroids ,'euclidean')\n",
    "        points = np.array([np.argmin(i) for i in distances])\n",
    "         \n",
    "    return points "
   ]
  },
  {
   "cell_type": "code",
   "execution_count": 195,
   "metadata": {},
   "outputs": [],
   "source": [
    "kmeans = MyKMeans(**{\"n_clusters\": 10, \"max_iter\": 10, \"n_init\": 3})"
   ]
  },
  {
   "cell_type": "code",
   "execution_count": 196,
   "metadata": {},
   "outputs": [
    {
     "data": {
      "text/html": [
       "<div>\n",
       "<style scoped>\n",
       "    .dataframe tbody tr th:only-of-type {\n",
       "        vertical-align: middle;\n",
       "    }\n",
       "\n",
       "    .dataframe tbody tr th {\n",
       "        vertical-align: top;\n",
       "    }\n",
       "\n",
       "    .dataframe thead th {\n",
       "        text-align: right;\n",
       "    }\n",
       "</style>\n",
       "<table border=\"1\" class=\"dataframe\">\n",
       "  <thead>\n",
       "    <tr style=\"text-align: right;\">\n",
       "      <th></th>\n",
       "      <th>a</th>\n",
       "      <th>b</th>\n",
       "    </tr>\n",
       "  </thead>\n",
       "  <tbody>\n",
       "    <tr>\n",
       "      <th>0</th>\n",
       "      <td>9</td>\n",
       "      <td>7</td>\n",
       "    </tr>\n",
       "    <tr>\n",
       "      <th>1</th>\n",
       "      <td>7</td>\n",
       "      <td>8</td>\n",
       "    </tr>\n",
       "    <tr>\n",
       "      <th>2</th>\n",
       "      <td>2</td>\n",
       "      <td>3</td>\n",
       "    </tr>\n",
       "    <tr>\n",
       "      <th>3</th>\n",
       "      <td>4</td>\n",
       "      <td>1</td>\n",
       "    </tr>\n",
       "    <tr>\n",
       "      <th>4</th>\n",
       "      <td>9</td>\n",
       "      <td>4</td>\n",
       "    </tr>\n",
       "    <tr>\n",
       "      <th>5</th>\n",
       "      <td>2</td>\n",
       "      <td>2</td>\n",
       "    </tr>\n",
       "    <tr>\n",
       "      <th>6</th>\n",
       "      <td>9</td>\n",
       "      <td>8</td>\n",
       "    </tr>\n",
       "    <tr>\n",
       "      <th>7</th>\n",
       "      <td>5</td>\n",
       "      <td>4</td>\n",
       "    </tr>\n",
       "    <tr>\n",
       "      <th>8</th>\n",
       "      <td>2</td>\n",
       "      <td>2</td>\n",
       "    </tr>\n",
       "    <tr>\n",
       "      <th>9</th>\n",
       "      <td>4</td>\n",
       "      <td>6</td>\n",
       "    </tr>\n",
       "  </tbody>\n",
       "</table>\n",
       "</div>"
      ],
      "text/plain": [
       "   a  b\n",
       "0  9  7\n",
       "1  7  8\n",
       "2  2  3\n",
       "3  4  1\n",
       "4  9  4\n",
       "5  2  2\n",
       "6  9  8\n",
       "7  5  4\n",
       "8  2  2\n",
       "9  4  6"
      ]
     },
     "execution_count": 196,
     "metadata": {},
     "output_type": "execute_result"
    }
   ],
   "source": [
    "df = pd.DataFrame({'a':np.random.randint(1, 10, 10), 'b':np.random.randint(1, 10, 10)})\n",
    "df"
   ]
  },
  {
   "cell_type": "code",
   "execution_count": 197,
   "metadata": {},
   "outputs": [
    {
     "data": {
      "text/html": [
       "<div>\n",
       "<style scoped>\n",
       "    .dataframe tbody tr th:only-of-type {\n",
       "        vertical-align: middle;\n",
       "    }\n",
       "\n",
       "    .dataframe tbody tr th {\n",
       "        vertical-align: top;\n",
       "    }\n",
       "\n",
       "    .dataframe thead th {\n",
       "        text-align: right;\n",
       "    }\n",
       "</style>\n",
       "<table border=\"1\" class=\"dataframe\">\n",
       "  <thead>\n",
       "    <tr style=\"text-align: right;\">\n",
       "      <th></th>\n",
       "      <th>x</th>\n",
       "      <th>y</th>\n",
       "    </tr>\n",
       "  </thead>\n",
       "  <tbody>\n",
       "    <tr>\n",
       "      <th>0</th>\n",
       "      <td>6.161500</td>\n",
       "      <td>6.318153</td>\n",
       "    </tr>\n",
       "    <tr>\n",
       "      <th>1</th>\n",
       "      <td>5.303292</td>\n",
       "      <td>5.546640</td>\n",
       "    </tr>\n",
       "    <tr>\n",
       "      <th>2</th>\n",
       "      <td>4.910833</td>\n",
       "      <td>6.238021</td>\n",
       "    </tr>\n",
       "    <tr>\n",
       "      <th>3</th>\n",
       "      <td>5.478052</td>\n",
       "      <td>6.651831</td>\n",
       "    </tr>\n",
       "    <tr>\n",
       "      <th>4</th>\n",
       "      <td>6.086347</td>\n",
       "      <td>6.105794</td>\n",
       "    </tr>\n",
       "    <tr>\n",
       "      <th>5</th>\n",
       "      <td>6.162099</td>\n",
       "      <td>6.298522</td>\n",
       "    </tr>\n",
       "    <tr>\n",
       "      <th>6</th>\n",
       "      <td>6.372930</td>\n",
       "      <td>5.551832</td>\n",
       "    </tr>\n",
       "    <tr>\n",
       "      <th>7</th>\n",
       "      <td>5.081708</td>\n",
       "      <td>5.944006</td>\n",
       "    </tr>\n",
       "    <tr>\n",
       "      <th>8</th>\n",
       "      <td>6.282232</td>\n",
       "      <td>6.734471</td>\n",
       "    </tr>\n",
       "    <tr>\n",
       "      <th>9</th>\n",
       "      <td>6.012750</td>\n",
       "      <td>5.438051</td>\n",
       "    </tr>\n",
       "    <tr>\n",
       "      <th>10</th>\n",
       "      <td>6.236597</td>\n",
       "      <td>6.475003</td>\n",
       "    </tr>\n",
       "    <tr>\n",
       "      <th>11</th>\n",
       "      <td>6.329595</td>\n",
       "      <td>6.863258</td>\n",
       "    </tr>\n",
       "    <tr>\n",
       "      <th>12</th>\n",
       "      <td>7.170373</td>\n",
       "      <td>6.228943</td>\n",
       "    </tr>\n",
       "    <tr>\n",
       "      <th>13</th>\n",
       "      <td>6.535493</td>\n",
       "      <td>5.157856</td>\n",
       "    </tr>\n",
       "    <tr>\n",
       "      <th>14</th>\n",
       "      <td>6.048208</td>\n",
       "      <td>6.163423</td>\n",
       "    </tr>\n",
       "    <tr>\n",
       "      <th>15</th>\n",
       "      <td>6.209551</td>\n",
       "      <td>5.959441</td>\n",
       "    </tr>\n",
       "    <tr>\n",
       "      <th>16</th>\n",
       "      <td>5.523486</td>\n",
       "      <td>6.233897</td>\n",
       "    </tr>\n",
       "    <tr>\n",
       "      <th>17</th>\n",
       "      <td>5.476065</td>\n",
       "      <td>6.368061</td>\n",
       "    </tr>\n",
       "    <tr>\n",
       "      <th>18</th>\n",
       "      <td>5.062162</td>\n",
       "      <td>5.610149</td>\n",
       "    </tr>\n",
       "    <tr>\n",
       "      <th>19</th>\n",
       "      <td>5.316609</td>\n",
       "      <td>5.578052</td>\n",
       "    </tr>\n",
       "    <tr>\n",
       "      <th>20</th>\n",
       "      <td>8.924733</td>\n",
       "      <td>8.612979</td>\n",
       "    </tr>\n",
       "    <tr>\n",
       "      <th>21</th>\n",
       "      <td>8.517221</td>\n",
       "      <td>8.820111</td>\n",
       "    </tr>\n",
       "    <tr>\n",
       "      <th>22</th>\n",
       "      <td>9.075245</td>\n",
       "      <td>9.362042</td>\n",
       "    </tr>\n",
       "    <tr>\n",
       "      <th>23</th>\n",
       "      <td>8.943289</td>\n",
       "      <td>8.872118</td>\n",
       "    </tr>\n",
       "    <tr>\n",
       "      <th>24</th>\n",
       "      <td>10.316764</td>\n",
       "      <td>9.424961</td>\n",
       "    </tr>\n",
       "    <tr>\n",
       "      <th>25</th>\n",
       "      <td>8.487455</td>\n",
       "      <td>8.344338</td>\n",
       "    </tr>\n",
       "    <tr>\n",
       "      <th>26</th>\n",
       "      <td>8.608976</td>\n",
       "      <td>8.564848</td>\n",
       "    </tr>\n",
       "    <tr>\n",
       "      <th>27</th>\n",
       "      <td>9.211972</td>\n",
       "      <td>8.746678</td>\n",
       "    </tr>\n",
       "    <tr>\n",
       "      <th>28</th>\n",
       "      <td>9.436353</td>\n",
       "      <td>8.345025</td>\n",
       "    </tr>\n",
       "    <tr>\n",
       "      <th>29</th>\n",
       "      <td>10.143613</td>\n",
       "      <td>10.471832</td>\n",
       "    </tr>\n",
       "    <tr>\n",
       "      <th>30</th>\n",
       "      <td>9.811460</td>\n",
       "      <td>8.451867</td>\n",
       "    </tr>\n",
       "    <tr>\n",
       "      <th>31</th>\n",
       "      <td>9.411867</td>\n",
       "      <td>9.457442</td>\n",
       "    </tr>\n",
       "    <tr>\n",
       "      <th>32</th>\n",
       "      <td>9.146530</td>\n",
       "      <td>8.666970</td>\n",
       "    </tr>\n",
       "    <tr>\n",
       "      <th>33</th>\n",
       "      <td>9.448315</td>\n",
       "      <td>8.743106</td>\n",
       "    </tr>\n",
       "    <tr>\n",
       "      <th>34</th>\n",
       "      <td>8.694839</td>\n",
       "      <td>9.150661</td>\n",
       "    </tr>\n",
       "    <tr>\n",
       "      <th>35</th>\n",
       "      <td>8.841917</td>\n",
       "      <td>8.270742</td>\n",
       "    </tr>\n",
       "    <tr>\n",
       "      <th>36</th>\n",
       "      <td>8.258788</td>\n",
       "      <td>8.668631</td>\n",
       "    </tr>\n",
       "    <tr>\n",
       "      <th>37</th>\n",
       "      <td>8.885576</td>\n",
       "      <td>8.926764</td>\n",
       "    </tr>\n",
       "    <tr>\n",
       "      <th>38</th>\n",
       "      <td>9.481321</td>\n",
       "      <td>8.576991</td>\n",
       "    </tr>\n",
       "    <tr>\n",
       "      <th>39</th>\n",
       "      <td>8.895154</td>\n",
       "      <td>8.588755</td>\n",
       "    </tr>\n",
       "  </tbody>\n",
       "</table>\n",
       "</div>"
      ],
      "text/plain": [
       "            x          y\n",
       "0    6.161500   6.318153\n",
       "1    5.303292   5.546640\n",
       "2    4.910833   6.238021\n",
       "3    5.478052   6.651831\n",
       "4    6.086347   6.105794\n",
       "5    6.162099   6.298522\n",
       "6    6.372930   5.551832\n",
       "7    5.081708   5.944006\n",
       "8    6.282232   6.734471\n",
       "9    6.012750   5.438051\n",
       "10   6.236597   6.475003\n",
       "11   6.329595   6.863258\n",
       "12   7.170373   6.228943\n",
       "13   6.535493   5.157856\n",
       "14   6.048208   6.163423\n",
       "15   6.209551   5.959441\n",
       "16   5.523486   6.233897\n",
       "17   5.476065   6.368061\n",
       "18   5.062162   5.610149\n",
       "19   5.316609   5.578052\n",
       "20   8.924733   8.612979\n",
       "21   8.517221   8.820111\n",
       "22   9.075245   9.362042\n",
       "23   8.943289   8.872118\n",
       "24  10.316764   9.424961\n",
       "25   8.487455   8.344338\n",
       "26   8.608976   8.564848\n",
       "27   9.211972   8.746678\n",
       "28   9.436353   8.345025\n",
       "29  10.143613  10.471832\n",
       "30   9.811460   8.451867\n",
       "31   9.411867   9.457442\n",
       "32   9.146530   8.666970\n",
       "33   9.448315   8.743106\n",
       "34   8.694839   9.150661\n",
       "35   8.841917   8.270742\n",
       "36   8.258788   8.668631\n",
       "37   8.885576   8.926764\n",
       "38   9.481321   8.576991\n",
       "39   8.895154   8.588755"
      ]
     },
     "execution_count": 197,
     "metadata": {},
     "output_type": "execute_result"
    }
   ],
   "source": [
    "six = np.random.normal(loc = [6], scale = .5, size = (2, 20))\n",
    "nine = np.random.normal(loc = [9], scale = .5, size = (2, 20))\n",
    "df = pd.DataFrame(np.hstack((six, nine)), index = ['x', 'y']).T\n",
    "df"
   ]
  },
  {
   "cell_type": "code",
   "execution_count": 198,
   "metadata": {},
   "outputs": [
    {
     "data": {
      "text/plain": [
       "<Axes: xlabel='x', ylabel='y'>"
      ]
     },
     "execution_count": 198,
     "metadata": {},
     "output_type": "execute_result"
    },
    {
     "data": {
      "image/png": "[encoded data removed]",
      "text/plain": [
       "<Figure size 640x480 with 1 Axes>"
      ]
     },
     "metadata": {},
     "output_type": "display_data"
    }
   ],
   "source": [
    "df.plot(kind = 'scatter', x = 'x', y = 'y')"
   ]
  },
  {
   "cell_type": "code",
   "execution_count": 199,
   "metadata": {},
   "outputs": [],
   "source": [
    "kmeans.fit(df)"
   ]
  },
  {
   "cell_type": "code",
   "execution_count": 200,
   "metadata": {},
   "outputs": [
    {
     "data": {
      "text/plain": [
       "array([[5.19094261, 5.66971166],\n",
       "       [5.34710887, 6.37295262],\n",
       "       [6.13354109, 6.1690663 ],\n",
       "       [8.46810992, 8.5994818 ],\n",
       "       [6.28280801, 6.69091052],\n",
       "       [7.17037317, 6.22894254],\n",
       "       [8.89973729, 9.07789608],\n",
       "       [9.95741455, 9.78474482],\n",
       "       [9.24419486, 8.55590144],\n",
       "       [6.30705757, 5.38257985]])"
      ]
     },
     "execution_count": 200,
     "metadata": {},
     "output_type": "execute_result"
    }
   ],
   "source": [
    "kmeans.cluster_centers_"
   ]
  },
  {
   "cell_type": "code",
   "execution_count": 201,
   "metadata": {},
   "outputs": [
    {
     "data": {
      "text/plain": [
       "0.22536258348136476"
      ]
     },
     "execution_count": 201,
     "metadata": {},
     "output_type": "execute_result"
    }
   ],
   "source": [
    "kmeans.inertia_"
   ]
  },
  {
   "cell_type": "code",
   "execution_count": 157,
   "metadata": {},
   "outputs": [],
   "source": [
    "class TwoPointers():\n",
    "    def __init__(self, col, sep):\n",
    "        self.col = col\n",
    "        self.sep = sep\n",
    "        self.right = None\n",
    "        self.left = None\n",
    "        self.left_prob = None\n",
    "        self.right_prob = None\n",
    "        self.is_right = None # 1 или 0\n",
    "        self.ig = None\n",
    "\n",
    "\n",
    "def entropy_shennon(y: np.array):\n",
    "    ans = 0\n",
    "    for i in np.unique(y):\n",
    "        si = (y == i).sum() / y.shape[0]\n",
    "        ans -= si * np.log2(si)\n",
    "    return ans\n",
    "\n",
    "def IG (*y_arr):\n",
    "    ans = entropy_shennon(y_arr[0])\n",
    "    N = y_arr[0].shape[0]\n",
    "    for yi in y_arr[1:]:\n",
    "        Ni = yi.shape[0]\n",
    "        ans -= Ni/N * entropy_shennon(yi) \n",
    "    return ans\n",
    "\n",
    "def get_best_split(X:np.array, y:np.array):\n",
    "    ig = 0\n",
    "    split_value = 0\n",
    "    col_name = ''\n",
    "    for col in range(X.shape[1]):\n",
    "        unique_sorted = np.sort(np.unique(X[:, col]))\n",
    "        separators = np.zeros(unique_sorted.shape[0] - 1)\n",
    "        for i in range(unique_sorted.shape[0] - 1):\n",
    "            separators[i] = (unique_sorted[i] + unique_sorted[i+1]) / 2\n",
    "        \n",
    "        for sep in separators:\n",
    "            right = y[X[:, col] > sep]\n",
    "            left = y[X[:, col] <= sep]\n",
    "            ig_local = IG(y, right, left)\n",
    "            \n",
    "            if ig_local > ig:\n",
    "                ig = ig_local\n",
    "                col_name = col\n",
    "                split_value = sep \n",
    "    return (col_name, split_value, ig)\n",
    "\n",
    "def tree_builder(x, y, curr_depth:int, Node, min_samples_split, max_depth:int = -1, is_right = 0):\n",
    "        if (x.shape[0] < min_samples_split) or (np.unique(y).shape[0] <=1) or (curr_depth == max_depth):\n",
    "            if is_right == 1:\n",
    "                Node.right_prob = (y == 1).sum() / y.shape[0]\n",
    "                Node.left_prob = 0.0\n",
    "            else:\n",
    "                Node.left_prob = (y == 1).sum() / y.shape[0]\n",
    "                Node.right_prob = 0.0\n",
    "            return Node\n",
    "\n",
    "        else:\n",
    "            best_split = get_best_split(x, y)\n",
    "            \n",
    "            right_x = x[x[:, best_split[0]] > best_split[1]]\n",
    "            left_x  = x[x[:,  best_split[0]] <= best_split[1]]\n",
    "            \n",
    "            right_y = y[x[:, best_split[0]] > best_split[1]]\n",
    "            left_y = y[x[:,  best_split[0]] <= best_split[1]]\n",
    "            \n",
    "            Node.col = best_split[0]\n",
    "            Node.sep = best_split[1]\n",
    "            Node.left =  tree_builder(left_x,  left_y,  curr_depth + 1, TwoPointers(None, None), min_samples_split, max_depth, 0)\n",
    "            Node.right = tree_builder(right_x, right_y, curr_depth + 1, TwoPointers(None, None), min_samples_split, max_depth, 1)\n",
    "            Node.ig = best_split[2]\n",
    "        \n",
    "        return Node\n",
    "\n",
    "\n",
    "    \n",
    "def tree_reader(node, indent = ''):\n",
    "    if (node.left == None) and (node.right == None):\n",
    "        #if node.is_right == 1:\n",
    "        #    print(indent, 'right_prob =', node.right_prob)\n",
    "        #else:print(indent, 'right_prob =', node.right_prob)\n",
    "        print(indent, node.ig)\n",
    "\n",
    "    else:\n",
    "        print(indent, 'col:', node.col, 'sep:', node.sep)\n",
    "        tree_reader(node.right, indent + '  ')\n",
    "        tree_reader(node.left, indent + '  ')\n",
    "        \n",
    "class MyTreeClf():\n",
    "\n",
    "    def __init__(self, max_depth = 5, min_samples_split = 10, max_leafs = None):\n",
    "        self.max_depth = max_depth\n",
    "        self.min_samples_split = min_samples_split\n",
    "        self.max_leafs = max_leafs\n",
    "        self.leafs_cnt = 0\n",
    "        self.tree = None\n",
    "    \n",
    "    def leaf_counter(self, node):\n",
    "        if (node.left == None) and (node.right == None):\n",
    "            self.leafs_cnt +=1\n",
    "\n",
    "        else:\n",
    "            self.leaf_counter(node.right)\n",
    "            self.leaf_counter(node.left )\n",
    "\n",
    "    def tree_pruner(self, node):\n",
    "        if (node.left.left == None) and (node.left.right == None): # <-- если левая ветка имеет листья\n",
    "            pass\n",
    " \n",
    "    def fit (self, X, y):\n",
    "        self.tree = TwoPointers(None, None)\n",
    "        X = X.values\n",
    "        y = y.values\n",
    "        tree_builder(X, y, 0, self.tree, self.min_samples_split, max_depth=self.max_depth)\n",
    "        self.leaf_counter(self.tree)\n",
    "        \n",
    "        if self.leafs_cnt > self.max_leafs:\n",
    "            self.tree_pruner(self.tree)\n",
    "    \n",
    "    def display_tree(self):\n",
    "        tree_reader(self.tree)\n",
    "    \n",
    "    def print_leafs_count(self):\n",
    "        return self.leafs_cnt"
   ]
  },
  {
   "cell_type": "code",
   "execution_count": 158,
   "metadata": {},
   "outputs": [
    {
     "name": "stdout",
     "output_type": "stream",
     "text": [
      "[[1.12320517 0.64355306 0.36191606 3.32231515]\n",
      " [0.03411857 0.72167085 0.99584681 4.47628519]\n",
      " [0.77473474 0.61266711 1.32826057 4.36925434]\n",
      " [1.08584748 0.42039563 1.00722154 3.66910351]\n",
      " [0.93327796 0.57725456 0.19130727 3.52286885]\n",
      " [1.11082485 0.64187483 0.34238593 3.33518148]\n",
      " [1.05664619 1.08938843 0.43913208 3.75208785]\n",
      " [0.43485721 0.52839807 1.12794828 4.39436313]\n",
      " [1.50656319 0.90899346 0.77843062 2.96040825]\n",
      " [0.71007966 0.93421154 0.55729501 4.06414145]\n",
      " [1.28487285 0.75276715 0.51627107 3.16158753]\n",
      " [1.6364281  1.02269601 0.91175494 2.84446531]\n",
      " [1.96471387 1.64689452 0.99790304 2.74336116]\n",
      " [1.28927951 1.47716672 0.86531794 3.98834839]\n",
      " [0.93696132 0.52943367 0.26007729 3.51060872]\n",
      " [0.97098042 0.73892603 0.         3.54194666]\n",
      " [0.6877002  0.         0.73892603 3.86698552]\n",
      " [0.80594102 0.14229798 0.83962674 3.82635649]\n",
      " [0.25646378 0.7758107  1.19937778 4.61629028]\n",
      " [0.         0.6877002  0.97098042 4.44529302]\n",
      " [4.7148001  4.1507238  3.79650858 0.31940424]\n",
      " [4.55575086 3.95612817 3.67542875 0.27125333]\n",
      " [5.33347171 4.73289282 4.44858331 0.92353923]\n",
      " [4.89935516 4.31917362 3.99462307 0.45407084]\n",
      " [6.30874465 5.75833297 5.37392115 1.9121544 ]\n",
      " [4.20792117 3.63855303 3.29796601 0.25177764]\n",
      " [4.44529302 3.86698552 3.54194666 0.        ]\n",
      " [5.0213588  4.46306993 4.09673329 0.62981424]\n",
      " [4.96270351 4.44605243 4.01288669 0.85608055]\n",
      " [6.87379443 6.26942261 5.986528   2.44779474]\n",
      " [5.33502602 4.82764041 4.38017581 1.20778009]\n",
      " [5.6409932  5.05081611 4.74245084 1.20056581]\n",
      " [4.92033598 4.36420499 3.99456597 0.54716793]\n",
      " [5.20466773 4.65837016 4.27064258 0.85805962]\n",
      " [4.91690732 4.30871112 4.04481728 0.59207292]\n",
      " [4.43603148 3.89367668 3.50306482 0.37517972]\n",
      " [4.26709452 3.66193976 3.39692269 0.36524343]\n",
      " [4.89401657 4.30757224 3.99576238 0.45551168]\n",
      " [5.13210121 4.59940695 4.18999395 0.87242908]\n",
      " [4.67657126 4.11260244 3.75842498 0.28717461]]\n"
     ]
    },
    {
     "data": {
      "text/plain": [
       "array([2, 0, 1, 1, 2, 2, 2, 0, 2, 2, 2, 2, 2, 2, 2, 2, 1, 1, 0, 0, 3, 3,\n",
       "       3, 3, 3, 3, 3, 3, 3, 3, 3, 3, 3, 3, 3, 3, 3, 3, 3, 3], dtype=int64)"
      ]
     },
     "execution_count": 158,
     "metadata": {},
     "output_type": "execute_result"
    }
   ],
   "source": [
    "Kmeans(df.values, 4, 10)"
   ]
  },
  {
   "cell_type": "code",
   "execution_count": null,
   "metadata": {},
   "outputs": [],
   "source": []
  }
 ],
 "metadata": {
  "kernelspec": {
   "display_name": "Based",
   "language": "python",
   "name": "python3"
  },
  "language_info": {
   "codemirror_mode": {
    "name": "ipython",
    "version": 3
   },
   "file_extension": ".py",
   "mimetype": "text/x-python",
   "name": "python",
   "nbconvert_exporter": "python",
   "pygments_lexer": "ipython3",
   "version": "3.11.7"
  }
 },
 "nbformat": 4,
 "nbformat_minor": 2
}
