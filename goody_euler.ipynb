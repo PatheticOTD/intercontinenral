{
 "cells": [
  {
   "cell_type": "code",
   "execution_count": 2,
   "metadata": {},
   "outputs": [],
   "source": [
    "import numpy as np\n",
    "import pandas as pd\n",
    "import matplotlib.pyplot as plt\n",
    "from cmath import exp, sin\n"
   ]
  },
  {
   "cell_type": "code",
   "execution_count": 3,
   "metadata": {},
   "outputs": [
    {
     "name": "stderr",
     "output_type": "stream",
     "text": [
      "C:\\Users\\maksd\\AppData\\Local\\Temp\\ipykernel_18552\\2420716005.py:14: RuntimeWarning: overflow encountered in scalar multiply\n",
      "  return x*x+y*y\n"
     ]
    }
   ],
   "source": [
    "x0 = 0\n",
    "xn = 5\n",
    "\n",
    "step1 = 10* (xn - x0)\n",
    "step2 = 5*  (xn - x0)\n",
    "\n",
    "x1 = np.linspace(x0, xn, step1)\n",
    "y1 = np.ones(step1)\n",
    "\n",
    "x2 = np.linspace(x0, xn, step2)\n",
    "y2 = np.ones(step2)\n",
    "\n",
    "def f(x, y):\n",
    "    return x*x+y*y\n",
    "\n",
    "for i in range(1, step1):\n",
    "    y1[i] = y1[i-1] +  f(x1[i-1], y1[i-1])*(x1[i]-x1[i-1])\n",
    "    \n",
    "for i in range(1, step2):\n",
    "    y2[i] = y2[i-1] +  f(x2[i-1], y2[i-1],)*(x2[i]-x2[i-1])"
   ]
  },
  {
   "cell_type": "code",
   "execution_count": 4,
   "metadata": {},
   "outputs": [
    {
     "data": {
      "text/plain": [
       "<matplotlib.collections.PathCollection at 0x1bac10fad90>"
      ]
     },
     "execution_count": 4,
     "metadata": {},
     "output_type": "execute_result"
    },
    {
     "data": {
      "image/png": "[encoded data removed]",
      "text/plain": [
       "<Figure size 640x480 with 1 Axes>"
      ]
     },
     "metadata": {},
     "output_type": "display_data"
    }
   ],
   "source": [
    "plt.scatter(x1, y1)\n",
    "plt.scatter(x2, y2)"
   ]
  },
  {
   "cell_type": "code",
   "execution_count": null,
   "metadata": {},
   "outputs": [],
   "source": [
    "y_n, y_o = 1, 1\n",
    "for i in range(1, step): # old\n",
    "    y_n = y_o + func(x[i - 1], y_o, np.exp) * (x[i] - x[i - 1])\n",
    "    #y1[i] = y1[i - 1] + func(x[i - 1], y1[i - 1], np.exp) * (x[i] - x[i - 1])\n",
    "    #y[i] = y1[i - 1] + func(np.mean([x[i], x[i - 1]]), np.mean([y1[i], y[i - 1]]), np.exp) * (x[i] - x[i - 1])\n",
    "    y[i] = y_o + func(np.mean([x[i], x[i - 1]]), np.mean([y_n, y_o]), np.exp) * (x[i] - x[i - 1])\n",
    "    y_o = y_n\n"
   ]
  }
 ],
 "metadata": {
  "kernelspec": {
   "display_name": "base",
   "language": "python",
   "name": "python3"
  },
  "language_info": {
   "codemirror_mode": {
    "name": "ipython",
    "version": 3
   },
   "file_extension": ".py",
   "mimetype": "text/x-python",
   "name": "python",
   "nbconvert_exporter": "python",
   "pygments_lexer": "ipython3",
   "version": "3.11.7"
  }
 },
 "nbformat": 4,
 "nbformat_minor": 2
}
